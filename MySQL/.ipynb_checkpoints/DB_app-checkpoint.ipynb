{
 "cells": [
  {
   "cell_type": "code",
   "execution_count": 1,
   "id": "09ff7bd6",
   "metadata": {},
   "outputs": [
    {
     "name": "stdout",
     "output_type": "stream",
     "text": [
      "Error while connecting to MySQL: 1049 (42000): Unknown database 'brew'\n"
     ]
    },
    {
     "ename": "AttributeError",
     "evalue": "'NoneType' object has no attribute 'cursor'",
     "output_type": "error",
     "traceback": [
      "\u001b[0;31m---------------------------------------------------------------------------\u001b[0m",
      "\u001b[0;31mAttributeError\u001b[0m                            Traceback (most recent call last)",
      "Cell \u001b[0;32mIn[1], line 61\u001b[0m\n\u001b[1;32m     54\u001b[0m     app\u001b[38;5;241m.\u001b[39mconnect()\n\u001b[1;32m     55\u001b[0m     \u001b[38;5;66;03m# Fetch all tables\u001b[39;00m\n\u001b[1;32m     56\u001b[0m \u001b[38;5;66;03m#     tables = app.get_tables()\u001b[39;00m\n\u001b[1;32m     57\u001b[0m \u001b[38;5;66;03m#     if tables:\u001b[39;00m\n\u001b[1;32m     58\u001b[0m \u001b[38;5;66;03m#         print(\"Tables in the database:\")\u001b[39;00m\n\u001b[1;32m     59\u001b[0m \u001b[38;5;66;03m#         for table in tables:\u001b[39;00m\n\u001b[1;32m     60\u001b[0m \u001b[38;5;66;03m#             print(table)\u001b[39;00m\n\u001b[0;32m---> 61\u001b[0m     data \u001b[38;5;241m=\u001b[39m app\u001b[38;5;241m.\u001b[39mexecute_query(\u001b[38;5;124m\"\u001b[39m\u001b[38;5;124mSELECT * FROM CUSTOMER LIMIT 10\u001b[39m\u001b[38;5;124m\"\u001b[39m)\n\u001b[1;32m     62\u001b[0m     \u001b[38;5;28mprint\u001b[39m(data)\n\u001b[1;32m     63\u001b[0m     app\u001b[38;5;241m.\u001b[39mdisconnect()\n",
      "Cell \u001b[0;32mIn[1], line 33\u001b[0m, in \u001b[0;36mEcommerceInventoryManagementApp.execute_query\u001b[0;34m(self, query)\u001b[0m\n\u001b[1;32m     31\u001b[0m \u001b[38;5;28;01mdef\u001b[39;00m \u001b[38;5;21mexecute_query\u001b[39m(\u001b[38;5;28mself\u001b[39m, query):\n\u001b[1;32m     32\u001b[0m     \u001b[38;5;28;01mtry\u001b[39;00m:\n\u001b[0;32m---> 33\u001b[0m         cursor \u001b[38;5;241m=\u001b[39m \u001b[38;5;28mself\u001b[39m\u001b[38;5;241m.\u001b[39mconnection\u001b[38;5;241m.\u001b[39mcursor()\n\u001b[1;32m     34\u001b[0m         cursor\u001b[38;5;241m.\u001b[39mexecute(query)\n\u001b[1;32m     35\u001b[0m         records \u001b[38;5;241m=\u001b[39m cursor\u001b[38;5;241m.\u001b[39mfetchall()\n",
      "\u001b[0;31mAttributeError\u001b[0m: 'NoneType' object has no attribute 'cursor'"
     ]
    }
   ],
   "source": [
    "import mysql.connector\n",
    "\n",
    "class EcommerceInventoryManagementApp:\n",
    "    def __init__(self):\n",
    "        self.host = 'localhost'\n",
    "        self.database = 'brews'\n",
    "        self.user = 'root'\n",
    "        self.password = 'AkkiLikki@9799'\n",
    "        self.connection = None\n",
    "    \n",
    "\n",
    "    def connect(self):\n",
    "        try:\n",
    "            self.connection = mysql.connector.connect(\n",
    "            host=self.host,\n",
    "            database=self.database,\n",
    "            user=self.user,\n",
    "            password=self.password\n",
    "            )\n",
    "            print(\"Connected to MySQL Server\")\n",
    "        except mysql.connector.Error as error:\n",
    "            print(\"Error while connecting to MySQL:\", error)\n",
    "\n",
    "\n",
    "    def disconnect(self):\n",
    "        if self.connection.is_connected():\n",
    "            self.connection.close()\n",
    "            print(\"MySQL connection is closed\")\n",
    "\n",
    "\n",
    "    def execute_query(self, query):\n",
    "        try:\n",
    "            cursor = self.connection.cursor()\n",
    "            cursor.execute(query)\n",
    "            records = cursor.fetchall()\n",
    "            cursor.close()\n",
    "            return records\n",
    "        except mysql.connector.Error as error:\n",
    "            print(\"Error executing SQL query:\", error)\n",
    "            return None\n",
    "\n",
    "\n",
    "    def get_tables(self):\n",
    "        query = \"SHOW TABLES\"\n",
    "        tables = self.execute_query(query)\n",
    "        if tables:\n",
    "            return [table[0] for table in tables]\n",
    "        else:\n",
    "            return None\n",
    "\n",
    "\n",
    "if __name__ == \"__main__\":\n",
    "    app = EcommerceInventoryManagementApp()\n",
    "    app.connect()\n",
    "    # Fetch all tables\n",
    "#     tables = app.get_tables()\n",
    "#     if tables:\n",
    "#         print(\"Tables in the database:\")\n",
    "#         for table in tables:\n",
    "#             print(table)\n",
    "    data = app.execute_query(\"SELECT * FROM CUSTOMER LIMIT 10\")\n",
    "    print(data)\n",
    "    app.disconnect()"
   ]
  },
  {
   "cell_type": "code",
   "execution_count": 7,
   "id": "352cb669",
   "metadata": {},
   "outputs": [],
   "source": [
    "import json\n",
    "\n",
    "with open(\"brew_customer.json\", \"w\") as f:\n",
    "    json.dump(data, f, indent=4)"
   ]
  },
  {
   "cell_type": "code",
   "execution_count": 27,
   "id": "ced55f33",
   "metadata": {},
   "outputs": [],
   "source": [
    "import mysql.connector\n",
    "from mysql.connector import errorcode\n",
    "\n",
    "\n",
    "config = {\n",
    "    \"host\": \"localhost\",\n",
    "    \"user\": \"root\",\n",
    "    \"password\": \"AkkiLikki@9799\",\n",
    "    \"database\": \"BREWS\",\n",
    "}\n",
    "\n",
    "class EcommerceInventoryManagementApp:\n",
    "    def __init__(self):\n",
    "        self.connection = None\n",
    "\n",
    "    def db_read(self, query, params=None):\n",
    "        try:\n",
    "            self.connection = mysql.connector.connect(**config)\n",
    "            cursor = self.connection.cursor(dictionary=True)\n",
    "            if params:\n",
    "                cursor.execute(query, params)\n",
    "            else:\n",
    "                cursor.execute(query)\n",
    "\n",
    "            entries = cursor.fetchall()\n",
    "            cursor.close()\n",
    "            self.connection.close()\n",
    "\n",
    "            content = []\n",
    "\n",
    "            for entry in entries:\n",
    "                content.append(entry)\n",
    "\n",
    "            return content\n",
    "\n",
    "        except mysql.connector.Error as err:\n",
    "            if err.errno == errorcode.ER_ACCESS_DENIED_ERROR:\n",
    "                print(\"User authorization error\")\n",
    "            elif err.errno == errorcode.ER_BAD_DB_ERROR:\n",
    "                print(\"Database doesn't exist\")\n",
    "            else:\n",
    "                print(err)\n",
    "\n",
    "        finally:\n",
    "            if self.connection.is_connected():\n",
    "                cursor.close()\n",
    "                self.connection.close()\n",
    "                print(\"Connection closed\")\n",
    "\n",
    "    def list_tables(self):\n",
    "        query = \"SHOW TABLES\"\n",
    "        tables = self.db_read(query)\n",
    "        if tables:\n",
    "            return [table[\"Tables_in_brews\"] for table in tables]\n",
    "        else:\n",
    "            return None\n",
    "        \n",
    "    def describe_table(self, table_name):\n",
    "        query = f\"DESCRIBE TABLE {table_name}\"\n",
    "        response = self.db_read(query)\n",
    "        return response\n",
    "\n",
    "\n",
    "\n",
    "\n",
    "if __name__ == \"__main__\":\n",
    "    app = EcommerceInventoryManagementApp()\n",
    "    # Fetch all tables\n",
    "    # tables = app.get_tables()\n",
    "    # if tables:\n",
    "    #     print(\"Tables in the database:\")\n",
    "    #     for table in tables:\n",
    "    #         print(table)\n",
    "    desc = app.describe_table(\"TRANSACTIONS\")\n",
    "    tables = app.list_tables()\n"
   ]
  },
  {
   "cell_type": "code",
   "execution_count": 28,
   "id": "b49f7621",
   "metadata": {},
   "outputs": [
    {
     "data": {
      "text/plain": [
       "[{'id': 1,\n",
       "  'select_type': 'SIMPLE',\n",
       "  'table': 'TRANSACTIONS',\n",
       "  'partitions': None,\n",
       "  'type': 'ALL',\n",
       "  'possible_keys': None,\n",
       "  'key': None,\n",
       "  'key_len': None,\n",
       "  'ref': None,\n",
       "  'rows': 2000,\n",
       "  'filtered': 100.0,\n",
       "  'Extra': None}]"
      ]
     },
     "execution_count": 28,
     "metadata": {},
     "output_type": "execute_result"
    }
   ],
   "source": [
    "desc"
   ]
  },
  {
   "cell_type": "code",
   "execution_count": 29,
   "id": "328ad01e",
   "metadata": {},
   "outputs": [
    {
     "data": {
      "text/plain": [
       "['CUSTOMER',\n",
       " 'CUSTOMER_VISITS',\n",
       " 'INVENTORY',\n",
       " 'PRODUCTS',\n",
       " 'PRODUCTS_OFFERED',\n",
       " 'PROMOTIONS',\n",
       " 'STORE',\n",
       " 'STORE_INVENTORY',\n",
       " 'STORE_PROMOTIONS',\n",
       " 'TRANSACTIONS']"
      ]
     },
     "execution_count": 29,
     "metadata": {},
     "output_type": "execute_result"
    }
   ],
   "source": [
    "tables"
   ]
  }
 ],
 "metadata": {
  "kernelspec": {
   "display_name": "Python 3 (ipykernel)",
   "language": "python",
   "name": "python3"
  },
  "language_info": {
   "codemirror_mode": {
    "name": "ipython",
    "version": 3
   },
   "file_extension": ".py",
   "mimetype": "text/x-python",
   "name": "python",
   "nbconvert_exporter": "python",
   "pygments_lexer": "ipython3",
   "version": "3.11.4"
  }
 },
 "nbformat": 4,
 "nbformat_minor": 5
}
