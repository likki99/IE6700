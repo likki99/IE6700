{
 "cells": [
  {
   "cell_type": "code",
   "execution_count": 4,
   "id": "09ff7bd6",
   "metadata": {},
   "outputs": [
    {
     "name": "stdout",
     "output_type": "stream",
     "text": [
      "Connected to MySQL Server\n",
      "[('Customer1', 'Male', 25, 3, 'Vancouver'), ('Customer10', 'Female', 33, 9, 'Atlanta'), ('Customer2', 'Female', 30, 5, 'Los Angeles'), ('Customer3', 'Male', 40, 8, 'Chicago'), ('Customer4', 'Female', 35, 6, 'Houston'), ('Customer5', 'Male', 28, 4, 'Miami'), ('Customer6', 'Female', 45, 10, 'Seattle'), ('Customer7', 'Male', 58, 12, 'Dallas'), ('Customer8', 'Female', 22, 2, 'San Francisco'), ('Customer9', 'Male', 38, 7, 'Boston')]\n",
      "MySQL connection is closed\n"
     ]
    }
   ],
   "source": [
    "import mysql.connector\n",
    "\n",
    "class EcommerceInventoryManagementApp:\n",
    "    def __init__(self):\n",
    "        self.host = 'localhost'\n",
    "        self.database = 'brew'\n",
    "        self.user = 'root'\n",
    "        self.password = 'AkkiLikki@9799'\n",
    "        self.connection = None\n",
    "    \n",
    "\n",
    "    def connect(self):\n",
    "        try:\n",
    "            self.connection = mysql.connector.connect(\n",
    "            host=self.host,\n",
    "            database=self.database,\n",
    "            user=self.user,\n",
    "            password=self.password\n",
    "            )\n",
    "            print(\"Connected to MySQL Server\")\n",
    "        except mysql.connector.Error as error:\n",
    "            print(\"Error while connecting to MySQL:\", error)\n",
    "\n",
    "\n",
    "    def disconnect(self):\n",
    "        if self.connection.is_connected():\n",
    "            self.connection.close()\n",
    "            print(\"MySQL connection is closed\")\n",
    "\n",
    "\n",
    "    def execute_query(self, query):\n",
    "        try:\n",
    "            cursor = self.connection.cursor()\n",
    "            cursor.execute(query)\n",
    "            records = cursor.fetchall()\n",
    "            cursor.close()\n",
    "            return records\n",
    "        except mysql.connector.Error as error:\n",
    "            print(\"Error executing SQL query:\", error)\n",
    "            return None\n",
    "\n",
    "\n",
    "    def get_tables(self):\n",
    "        query = \"SHOW TABLES\"\n",
    "        tables = self.execute_query(query)\n",
    "        if tables:\n",
    "            return [table[0] for table in tables]\n",
    "        else:\n",
    "            return None\n",
    "\n",
    "\n",
    "if __name__ == \"__main__\":\n",
    "    app = EcommerceInventoryManagementApp()\n",
    "    app.connect()\n",
    "    # Fetch all tables\n",
    "#     tables = app.get_tables()\n",
    "#     if tables:\n",
    "#         print(\"Tables in the database:\")\n",
    "#         for table in tables:\n",
    "#             print(table)\n",
    "    data = app.execute_query(\"SELECT * FROM CUSTOMER\")\n",
    "    print(data)\n",
    "    app.disconnect()"
   ]
  },
  {
   "cell_type": "code",
   "execution_count": 7,
   "id": "352cb669",
   "metadata": {},
   "outputs": [],
   "source": [
    "import json\n",
    "\n",
    "with open(\"brew_customer.json\", \"w\") as f:\n",
    "    json.dump(data, f, indent=4)"
   ]
  },
  {
   "cell_type": "code",
   "execution_count": null,
   "id": "ced55f33",
   "metadata": {},
   "outputs": [],
   "source": []
  }
 ],
 "metadata": {
  "kernelspec": {
   "display_name": "Python 3 (ipykernel)",
   "language": "python",
   "name": "python3"
  },
  "language_info": {
   "codemirror_mode": {
    "name": "ipython",
    "version": 3
   },
   "file_extension": ".py",
   "mimetype": "text/x-python",
   "name": "python",
   "nbconvert_exporter": "python",
   "pygments_lexer": "ipython3",
   "version": "3.11.4"
  }
 },
 "nbformat": 4,
 "nbformat_minor": 5
}
