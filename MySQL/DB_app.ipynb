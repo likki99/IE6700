{
 "cells": [
  {
   "cell_type": "markdown",
   "id": "9623d712",
   "metadata": {},
   "source": [
    "PRACTICE/ TESTING FILE FOR CODE SNIPPETS"
   ]
  },
  {
   "cell_type": "code",
   "execution_count": 1,
   "id": "09ff7bd6",
   "metadata": {},
   "outputs": [
    {
     "name": "stdout",
     "output_type": "stream",
     "text": [
      "Error while connecting to MySQL: 1049 (42000): Unknown database 'brew'\n"
     ]
    },
    {
     "ename": "AttributeError",
     "evalue": "'NoneType' object has no attribute 'cursor'",
     "output_type": "error",
     "traceback": [
      "\u001b[0;31m---------------------------------------------------------------------------\u001b[0m",
      "\u001b[0;31mAttributeError\u001b[0m                            Traceback (most recent call last)",
      "Cell \u001b[0;32mIn[1], line 61\u001b[0m\n\u001b[1;32m     54\u001b[0m     app\u001b[38;5;241m.\u001b[39mconnect()\n\u001b[1;32m     55\u001b[0m     \u001b[38;5;66;03m# Fetch all tables\u001b[39;00m\n\u001b[1;32m     56\u001b[0m \u001b[38;5;66;03m#     tables = app.get_tables()\u001b[39;00m\n\u001b[1;32m     57\u001b[0m \u001b[38;5;66;03m#     if tables:\u001b[39;00m\n\u001b[1;32m     58\u001b[0m \u001b[38;5;66;03m#         print(\"Tables in the database:\")\u001b[39;00m\n\u001b[1;32m     59\u001b[0m \u001b[38;5;66;03m#         for table in tables:\u001b[39;00m\n\u001b[1;32m     60\u001b[0m \u001b[38;5;66;03m#             print(table)\u001b[39;00m\n\u001b[0;32m---> 61\u001b[0m     data \u001b[38;5;241m=\u001b[39m app\u001b[38;5;241m.\u001b[39mexecute_query(\u001b[38;5;124m\"\u001b[39m\u001b[38;5;124mSELECT * FROM CUSTOMER LIMIT 10\u001b[39m\u001b[38;5;124m\"\u001b[39m)\n\u001b[1;32m     62\u001b[0m     \u001b[38;5;28mprint\u001b[39m(data)\n\u001b[1;32m     63\u001b[0m     app\u001b[38;5;241m.\u001b[39mdisconnect()\n",
      "Cell \u001b[0;32mIn[1], line 33\u001b[0m, in \u001b[0;36mEcommerceInventoryManagementApp.execute_query\u001b[0;34m(self, query)\u001b[0m\n\u001b[1;32m     31\u001b[0m \u001b[38;5;28;01mdef\u001b[39;00m \u001b[38;5;21mexecute_query\u001b[39m(\u001b[38;5;28mself\u001b[39m, query):\n\u001b[1;32m     32\u001b[0m     \u001b[38;5;28;01mtry\u001b[39;00m:\n\u001b[0;32m---> 33\u001b[0m         cursor \u001b[38;5;241m=\u001b[39m \u001b[38;5;28mself\u001b[39m\u001b[38;5;241m.\u001b[39mconnection\u001b[38;5;241m.\u001b[39mcursor()\n\u001b[1;32m     34\u001b[0m         cursor\u001b[38;5;241m.\u001b[39mexecute(query)\n\u001b[1;32m     35\u001b[0m         records \u001b[38;5;241m=\u001b[39m cursor\u001b[38;5;241m.\u001b[39mfetchall()\n",
      "\u001b[0;31mAttributeError\u001b[0m: 'NoneType' object has no attribute 'cursor'"
     ]
    }
   ],
   "source": [
    "import mysql.connector\n",
    "\n",
    "class EcommerceInventoryManagementApp:\n",
    "    def __init__(self):\n",
    "        self.host = 'localhost'\n",
    "        self.database = 'brews'\n",
    "        self.user = 'root'\n",
    "        self.password = 'AkkiLikki@9799'\n",
    "        self.connection = None\n",
    "    \n",
    "\n",
    "    def connect(self):\n",
    "        try:\n",
    "            self.connection = mysql.connector.connect(\n",
    "            host=self.host,\n",
    "            database=self.database,\n",
    "            user=self.user,\n",
    "            password=self.password\n",
    "            )\n",
    "            print(\"Connected to MySQL Server\")\n",
    "        except mysql.connector.Error as error:\n",
    "            print(\"Error while connecting to MySQL:\", error)\n",
    "\n",
    "\n",
    "    def disconnect(self):\n",
    "        if self.connection.is_connected():\n",
    "            self.connection.close()\n",
    "            print(\"MySQL connection is closed\")\n",
    "\n",
    "\n",
    "    def execute_query(self, query):\n",
    "        try:\n",
    "            cursor = self.connection.cursor()\n",
    "            cursor.execute(query)\n",
    "            records = cursor.fetchall()\n",
    "            cursor.close()\n",
    "            return records\n",
    "        except mysql.connector.Error as error:\n",
    "            print(\"Error executing SQL query:\", error)\n",
    "            return None\n",
    "\n",
    "\n",
    "    def get_tables(self):\n",
    "        query = \"SHOW TABLES\"\n",
    "        tables = self.execute_query(query)\n",
    "        if tables:\n",
    "            return [table[0] for table in tables]\n",
    "        else:\n",
    "            return None\n",
    "\n",
    "\n",
    "if __name__ == \"__main__\":\n",
    "    app = EcommerceInventoryManagementApp()\n",
    "    app.connect()\n",
    "    # Fetch all tables\n",
    "#     tables = app.get_tables()\n",
    "#     if tables:\n",
    "#         print(\"Tables in the database:\")\n",
    "#         for table in tables:\n",
    "#             print(table)\n",
    "    data = app.execute_query(\"SELECT * FROM CUSTOMER LIMIT 10\")\n",
    "    print(data)\n",
    "    app.disconnect()"
   ]
  },
  {
   "cell_type": "code",
   "execution_count": 7,
   "id": "352cb669",
   "metadata": {},
   "outputs": [],
   "source": [
    "import json\n",
    "\n",
    "with open(\"brew_customer.json\", \"w\") as f:\n",
    "    json.dump(data, f, indent=4)"
   ]
  },
  {
   "cell_type": "code",
   "execution_count": 27,
   "id": "ced55f33",
   "metadata": {},
   "outputs": [],
   "source": [
    "import mysql.connector\n",
    "from mysql.connector import errorcode\n",
    "\n",
    "\n",
    "config = {\n",
    "    \"host\": \"localhost\",\n",
    "    \"user\": \"root\",\n",
    "    \"password\": \"AkkiLikki@9799\",\n",
    "    \"database\": \"BREWS\",\n",
    "}\n",
    "\n",
    "class EcommerceInventoryManagementApp:\n",
    "    def __init__(self):\n",
    "        self.connection = None\n",
    "\n",
    "    def db_read(self, query, params=None):\n",
    "        try:\n",
    "            self.connection = mysql.connector.connect(**config)\n",
    "            cursor = self.connection.cursor(dictionary=True)\n",
    "            if params:\n",
    "                cursor.execute(query, params)\n",
    "            else:\n",
    "                cursor.execute(query)\n",
    "\n",
    "            entries = cursor.fetchall()\n",
    "            cursor.close()\n",
    "            self.connection.close()\n",
    "\n",
    "            content = []\n",
    "\n",
    "            for entry in entries:\n",
    "                content.append(entry)\n",
    "\n",
    "            return content\n",
    "\n",
    "        except mysql.connector.Error as err:\n",
    "            if err.errno == errorcode.ER_ACCESS_DENIED_ERROR:\n",
    "                print(\"User authorization error\")\n",
    "            elif err.errno == errorcode.ER_BAD_DB_ERROR:\n",
    "                print(\"Database doesn't exist\")\n",
    "            else:\n",
    "                print(err)\n",
    "\n",
    "        finally:\n",
    "            if self.connection.is_connected():\n",
    "                cursor.close()\n",
    "                self.connection.close()\n",
    "                print(\"Connection closed\")\n",
    "\n",
    "    def list_tables(self):\n",
    "        query = \"SHOW TABLES\"\n",
    "        tables = self.db_read(query)\n",
    "        if tables:\n",
    "            return [table[\"Tables_in_brews\"] for table in tables]\n",
    "        else:\n",
    "            return None\n",
    "        \n",
    "    def describe_table(self, table_name):\n",
    "        query = f\"DESCRIBE TABLE {table_name}\"\n",
    "        response = self.db_read(query)\n",
    "        return response\n",
    "\n",
    "\n",
    "\n",
    "\n",
    "if __name__ == \"__main__\":\n",
    "    app = EcommerceInventoryManagementApp()\n",
    "    # Fetch all tables\n",
    "    # tables = app.get_tables()\n",
    "    # if tables:\n",
    "    #     print(\"Tables in the database:\")\n",
    "    #     for table in tables:\n",
    "    #         print(table)\n",
    "    desc = app.describe_table(\"TRANSACTIONS\")\n",
    "    tables = app.list_tables()\n"
   ]
  },
  {
   "cell_type": "code",
   "execution_count": 28,
   "id": "b49f7621",
   "metadata": {},
   "outputs": [
    {
     "data": {
      "text/plain": [
       "[{'id': 1,\n",
       "  'select_type': 'SIMPLE',\n",
       "  'table': 'TRANSACTIONS',\n",
       "  'partitions': None,\n",
       "  'type': 'ALL',\n",
       "  'possible_keys': None,\n",
       "  'key': None,\n",
       "  'key_len': None,\n",
       "  'ref': None,\n",
       "  'rows': 2000,\n",
       "  'filtered': 100.0,\n",
       "  'Extra': None}]"
      ]
     },
     "execution_count": 28,
     "metadata": {},
     "output_type": "execute_result"
    }
   ],
   "source": [
    "desc"
   ]
  },
  {
   "cell_type": "code",
   "execution_count": 29,
   "id": "328ad01e",
   "metadata": {},
   "outputs": [
    {
     "data": {
      "text/plain": [
       "['CUSTOMER',\n",
       " 'CUSTOMER_VISITS',\n",
       " 'INVENTORY',\n",
       " 'PRODUCTS',\n",
       " 'PRODUCTS_OFFERED',\n",
       " 'PROMOTIONS',\n",
       " 'STORE',\n",
       " 'STORE_INVENTORY',\n",
       " 'STORE_PROMOTIONS',\n",
       " 'TRANSACTIONS']"
      ]
     },
     "execution_count": 29,
     "metadata": {},
     "output_type": "execute_result"
    }
   ],
   "source": [
    "tables"
   ]
  },
  {
   "cell_type": "code",
   "execution_count": 3,
   "id": "3e7d7ca5",
   "metadata": {
    "scrolled": true
   },
   "outputs": [
    {
     "name": "stdout",
     "output_type": "stream",
     "text": [
      "Executing this query: \n",
      "    SELECT t.mode_of_payment AS mode_of_payment, AVG(t.transaction_value) AS average_transaction_value\n",
      "    FROM TRANSACTIONS t\n",
      "    JOIN PROMOTIONS p ON t.offer_used = p.offer_id\n",
      "    WHERE p.offer_id IS NOT NULL\n",
      "    GROUP BY t.mode_of_payment\n",
      "    \n"
     ]
    }
   ],
   "source": [
    "import mysql.connector\n",
    "from mysql.connector import errorcode\n",
    "\n",
    "config = {\n",
    "    \"host\": \"localhost\",\n",
    "    \"user\": \"root\",\n",
    "    \"password\": \"AkkiLikki@9799\",\n",
    "    \"database\": \"BREWS\",\n",
    "}\n",
    "\n",
    "\n",
    "class RevitalizingBrewsApp:\n",
    "    def __init__(self):\n",
    "        self.connection = None\n",
    "\n",
    "    def db_read(self, query, params=None):\n",
    "        try:\n",
    "            self.connection = mysql.connector.connect(**config)\n",
    "            cursor = self.connection.cursor(dictionary=True)\n",
    "            if params:\n",
    "                cursor.execute(query, params)\n",
    "            else:\n",
    "                cursor.execute(query)\n",
    "\n",
    "            entries = cursor.fetchall()\n",
    "            cursor.close()\n",
    "            self.connection.close()\n",
    "\n",
    "            content = []\n",
    "\n",
    "            for entry in entries:\n",
    "                content.append(entry)\n",
    "\n",
    "            return content\n",
    "        \n",
    "        except mysql.connector.Error as err:\n",
    "            if err.errno == errorcode.ER_ACCESS_DENIED_ERROR:\n",
    "                print(\"User authorization error\")\n",
    "            elif err.errno == errorcode.ER_BAD_DB_ERROR:\n",
    "                print(\"Database doesn't exist\")\n",
    "            else:\n",
    "                print(err)\n",
    "\n",
    "        finally:\n",
    "            if self.connection.is_connected():\n",
    "                cursor.close()\n",
    "                self.connection.close()\n",
    "                print(\"Connection closed\")\n",
    "\n",
    "    def list_tables(self):\n",
    "        query = \"SHOW TABLES\"\n",
    "        tables = self.db_read(query)\n",
    "        if tables:\n",
    "            return [table[\"Tables_in_brews\"] for table in tables]\n",
    "        else:\n",
    "            return None\n",
    "\n",
    "    def describe_table(self, table_name):\n",
    "        query = f\"DESCRIBE TABLE {table_name}\"\n",
    "        response = self.db_read(query)\n",
    "        return response\n",
    "\n",
    "    def custom_query(self, query):\n",
    "        print(\"Executing this query:\", query)\n",
    "        response = self.db_read(query)\n",
    "        return response\n",
    "    \n",
    "    \n",
    "if __name__ == \"__main__\":\n",
    "    app = RevitalizingBrewsApp()\n",
    "#     desc = app.describe_table(\"TRANSACTIONS\")\n",
    "#     tables = app.list_tables()\n",
    "\n",
    "#     print(desc)\n",
    "#     print(tables)\n",
    "    tran_query = \"\"\"\n",
    "    SELECT t.mode_of_payment AS mode_of_payment, AVG(t.transaction_value) AS average_transaction_value\n",
    "    FROM TRANSACTIONS t\n",
    "    JOIN PROMOTIONS p ON t.offer_used = p.offer_id\n",
    "    WHERE p.offer_id IS NOT NULL\n",
    "    GROUP BY t.mode_of_payment\n",
    "    \"\"\"\n",
    "    data = app.custom_query(tran_query)\n"
   ]
  },
  {
   "cell_type": "code",
   "execution_count": 6,
   "id": "5f5fb910",
   "metadata": {},
   "outputs": [],
   "source": [
    "import pandas as pd\n",
    "\n",
    "df = pd.DataFrame(data)"
   ]
  },
  {
   "cell_type": "code",
   "execution_count": 7,
   "id": "b2857376",
   "metadata": {},
   "outputs": [
    {
     "data": {
      "text/html": [
       "<div>\n",
       "<style scoped>\n",
       "    .dataframe tbody tr th:only-of-type {\n",
       "        vertical-align: middle;\n",
       "    }\n",
       "\n",
       "    .dataframe tbody tr th {\n",
       "        vertical-align: top;\n",
       "    }\n",
       "\n",
       "    .dataframe thead th {\n",
       "        text-align: right;\n",
       "    }\n",
       "</style>\n",
       "<table border=\"1\" class=\"dataframe\">\n",
       "  <thead>\n",
       "    <tr style=\"text-align: right;\">\n",
       "      <th></th>\n",
       "      <th>mode_of_payment</th>\n",
       "      <th>average_transaction_value</th>\n",
       "    </tr>\n",
       "  </thead>\n",
       "  <tbody>\n",
       "    <tr>\n",
       "      <th>0</th>\n",
       "      <td>Debit Card</td>\n",
       "      <td>100.023722</td>\n",
       "    </tr>\n",
       "    <tr>\n",
       "      <th>1</th>\n",
       "      <td>Cash</td>\n",
       "      <td>106.941968</td>\n",
       "    </tr>\n",
       "    <tr>\n",
       "      <th>2</th>\n",
       "      <td>Credit Card</td>\n",
       "      <td>100.806902</td>\n",
       "    </tr>\n",
       "    <tr>\n",
       "      <th>3</th>\n",
       "      <td>Gift Card</td>\n",
       "      <td>107.633740</td>\n",
       "    </tr>\n",
       "  </tbody>\n",
       "</table>\n",
       "</div>"
      ],
      "text/plain": [
       "  mode_of_payment average_transaction_value\n",
       "0      Debit Card                100.023722\n",
       "1            Cash                106.941968\n",
       "2     Credit Card                100.806902\n",
       "3       Gift Card                107.633740"
      ]
     },
     "execution_count": 7,
     "metadata": {},
     "output_type": "execute_result"
    }
   ],
   "source": [
    "df"
   ]
  },
  {
   "cell_type": "code",
   "execution_count": 12,
   "id": "eaf215c4",
   "metadata": {},
   "outputs": [
    {
     "name": "stdout",
     "output_type": "stream",
     "text": [
      "Average transactions by payment type:\n"
     ]
    },
    {
     "data": {
      "text/html": [
       "<div>\n",
       "<style scoped>\n",
       "    .dataframe tbody tr th:only-of-type {\n",
       "        vertical-align: middle;\n",
       "    }\n",
       "\n",
       "    .dataframe tbody tr th {\n",
       "        vertical-align: top;\n",
       "    }\n",
       "\n",
       "    .dataframe thead th {\n",
       "        text-align: right;\n",
       "    }\n",
       "</style>\n",
       "<table border=\"1\" class=\"dataframe\">\n",
       "  <thead>\n",
       "    <tr style=\"text-align: right;\">\n",
       "      <th></th>\n",
       "      <th>mode_of_payment</th>\n",
       "      <th>average_transaction_value</th>\n",
       "    </tr>\n",
       "  </thead>\n",
       "  <tbody>\n",
       "    <tr>\n",
       "      <th>0</th>\n",
       "      <td>Debit Card</td>\n",
       "      <td>100.023722</td>\n",
       "    </tr>\n",
       "    <tr>\n",
       "      <th>1</th>\n",
       "      <td>Cash</td>\n",
       "      <td>106.941968</td>\n",
       "    </tr>\n",
       "    <tr>\n",
       "      <th>2</th>\n",
       "      <td>Credit Card</td>\n",
       "      <td>100.806902</td>\n",
       "    </tr>\n",
       "    <tr>\n",
       "      <th>3</th>\n",
       "      <td>Gift Card</td>\n",
       "      <td>107.633740</td>\n",
       "    </tr>\n",
       "  </tbody>\n",
       "</table>\n",
       "</div>"
      ],
      "text/plain": [
       "  mode_of_payment average_transaction_value\n",
       "0      Debit Card                100.023722\n",
       "1            Cash                106.941968\n",
       "2     Credit Card                100.806902\n",
       "3       Gift Card                107.633740"
      ]
     },
     "metadata": {},
     "output_type": "display_data"
    },
    {
     "data": {
      "image/png": "[encoded data removed]",
      "text/plain": [
       "<Figure size 640x480 with 1 Axes>"
      ]
     },
     "metadata": {},
     "output_type": "display_data"
    }
   ],
   "source": [
    "avg_tran = pd.DataFrame(data)\n",
    "\n",
    "print(\"Average transactions by payment type:\")\n",
    "display(avg_tran)\n",
    "\n",
    "# Plotting\n",
    "# Create a bar chart\n",
    "fig, ax = plt.subplots()\n",
    "ax.bar(avg_tran[\"mode_of_payment\"], avg_tran[\"average_transaction_value\"])\n",
    "\n",
    "# Set the chart title and axis labels\n",
    "ax.set_title('Average Transaction Value by Mode of Payment')\n",
    "ax.set_xlabel('Mode of Payment')\n",
    "ax.set_ylabel('Average Transaction Value')\n",
    "\n",
    "# Rotate the x-axis labels for better visibility\n",
    "plt.xticks(rotation=45)\n",
    "\n",
    "# Display the chart\n",
    "plt.tight_layout()\n",
    "plt.show()"
   ]
  },
  {
   "cell_type": "code",
   "execution_count": 5,
   "id": "3a0242da",
   "metadata": {},
   "outputs": [
    {
     "data": {
      "image/png": "[encoded data removed]",
      "text/plain": [
       "<Figure size 640x480 with 1 Axes>"
      ]
     },
     "metadata": {},
     "output_type": "display_data"
    }
   ],
   "source": [
    "import matplotlib.pyplot as plt\n",
    "\n",
    "\n",
    "# Extract the mode of payment and average transaction value into separate lists\n",
    "modes_of_payment = [d['mode_of_payment'] for d in data]\n",
    "avg_transaction_values = [d['average_transaction_value'] for d in data]\n",
    "\n",
    "# Create a bar chart\n",
    "fig, ax = plt.subplots()\n",
    "ax.bar(modes_of_payment, avg_transaction_values)\n",
    "\n",
    "# Set the chart title and axis labels\n",
    "ax.set_title('Average Transaction Value by Mode of Payment')\n",
    "ax.set_xlabel('Mode of Payment')\n",
    "ax.set_ylabel('Average Transaction Value')\n",
    "\n",
    "# Rotate the x-axis labels for better visibility\n",
    "plt.xticks(rotation=45)\n",
    "\n",
    "# Display the chart\n",
    "plt.tight_layout()\n",
    "plt.show()"
   ]
  }
 ],
 "metadata": {
  "kernelspec": {
   "display_name": "Python 3 (ipykernel)",
   "language": "python",
   "name": "python3"
  },
  "language_info": {
   "codemirror_mode": {
    "name": "ipython",
    "version": 3
   },
   "file_extension": ".py",
   "mimetype": "text/x-python",
   "name": "python",
   "nbconvert_exporter": "python",
   "pygments_lexer": "ipython3",
   "version": "3.11.4"
  }
 },
 "nbformat": 4,
 "nbformat_minor": 5
}
